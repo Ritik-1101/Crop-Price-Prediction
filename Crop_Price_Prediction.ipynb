{
 "cells": [
  {
   "cell_type": "markdown",
   "id": "b338369e",
   "metadata": {},
   "source": [
    "# To Import Libraries"
   ]
  },
  {
   "cell_type": "code",
   "execution_count": null,
   "id": "4e012bb9",
   "metadata": {},
   "outputs": [],
   "source": [
    "import pandas as pd\n",
    "from sklearn.model_selection import train_test_split\n",
    "from sklearn.ensemble import RandomForestRegressor\n",
    "from sklearn.preprocessing import OneHotEncoder\n",
    "from sklearn.compose import ColumnTransformer\n",
    "from sklearn.pipeline import Pipeline\n",
    "from sklearn.metrics import mean_squared_error\n",
    "import numpy as np"
   ]
  },
  {
   "cell_type": "markdown",
   "id": "74024f41",
   "metadata": {},
   "source": [
    "# Load the data"
   ]
  },
  {
   "cell_type": "code",
   "execution_count": null,
   "id": "c3ad40d7",
   "metadata": {},
   "outputs": [],
   "source": [
    "data_path = 'Crop_Price_Prediction_Dataset.csv'\n",
    "data = pd.read_csv(data_path)"
   ]
  },
  {
   "cell_type": "markdown",
   "id": "f0e8db99",
   "metadata": {},
   "source": [
    "# Convert price fields from strings to numeric values and handle missing values"
   ]
  },
  {
   "cell_type": "code",
   "execution_count": null,
   "id": "08103367",
   "metadata": {},
   "outputs": [],
   "source": [
    "data['farmprice'] = pd.to_numeric(data['farmprice'].str.replace('$', ''), errors='coerce')\n",
    "data.dropna(subset=['farmprice'], inplace=True)"
   ]
  },
  {
   "cell_type": "markdown",
   "id": "b3d56253",
   "metadata": {},
   "source": [
    "# Convert 'date' to datetime format and extract 'year' and 'month'"
   ]
  },
  {
   "cell_type": "code",
   "execution_count": null,
   "id": "5c53374c",
   "metadata": {},
   "outputs": [],
   "source": [
    "data['date'] = pd.to_datetime(data['date'], errors='coerce')\n",
    "data['year'] = data['date'].dt.year\n",
    "data['month'] = data['date'].dt.month"
   ]
  },
  {
   "cell_type": "markdown",
   "id": "eee27029",
   "metadata": {},
   "source": [
    "# Define features and target"
   ]
  },
  {
   "cell_type": "code",
   "execution_count": null,
   "id": "44c6ea0b",
   "metadata": {},
   "outputs": [],
   "source": [
    "features = ['productname', 'year', 'month']\n",
    "X = data[features]\n",
    "y = data['farmprice']"
   ]
  },
  {
   "cell_type": "markdown",
   "id": "729ac181",
   "metadata": {},
   "source": [
    "# Split the data into training and testing sets"
   ]
  },
  {
   "cell_type": "code",
   "execution_count": null,
   "id": "d73821b7",
   "metadata": {},
   "outputs": [],
   "source": [
    "X_train, X_test, y_train, y_test = train_test_split(X, y, test_size=0.2, random_state=42)"
   ]
  },
  {
   "cell_type": "markdown",
   "id": "910150ca",
   "metadata": {},
   "source": [
    "# Preprocessing for categorical features"
   ]
  },
  {
   "cell_type": "code",
   "execution_count": null,
   "id": "879bf734",
   "metadata": {},
   "outputs": [],
   "source": [
    "categorical_features = ['productname']\n",
    "categorical_transformer = OneHotEncoder(handle_unknown='ignore')\n",
    "\n",
    "preprocessor = ColumnTransformer(\n",
    "    transformers=[\n",
    "        ('cat', categorical_transformer, categorical_features)],\n",
    "    remainder='passthrough')\n"
   ]
  },
  {
   "cell_type": "markdown",
   "id": "71348661",
   "metadata": {},
   "source": [
    "# Define the Random Forest model pipeline"
   ]
  },
  {
   "cell_type": "code",
   "execution_count": null,
   "id": "c97a28dc",
   "metadata": {},
   "outputs": [],
   "source": [
    "rf_model = RandomForestRegressor(n_estimators=100, random_state=42)\n",
    "\n",
    "pipeline = Pipeline(steps=[('preprocessor', preprocessor),\n",
    "                           ('model', rf_model)])\n"
   ]
  },
  {
   "cell_type": "markdown",
   "id": "dfcd94fb",
   "metadata": {},
   "source": [
    "# Train the model"
   ]
  },
  {
   "cell_type": "code",
   "execution_count": null,
   "id": "f51ff26e",
   "metadata": {},
   "outputs": [],
   "source": [
    "pipeline.fit(X_train, y_train)"
   ]
  },
  {
   "cell_type": "markdown",
   "id": "d4944575",
   "metadata": {},
   "source": [
    "# Model evaluation"
   ]
  },
  {
   "cell_type": "code",
   "execution_count": null,
   "id": "43ca1977",
   "metadata": {},
   "outputs": [],
   "source": [
    "y_pred = pipeline.predict(X_test)\n",
    "print(f\"Model RMSE on test set: {np.sqrt(mean_squared_error(y_test, y_pred)):.2f}\")"
   ]
  },
  {
   "cell_type": "markdown",
   "id": "1970c14e",
   "metadata": {},
   "source": [
    "# Function to make predictions with handling unknown categories"
   ]
  },
  {
   "cell_type": "code",
   "execution_count": null,
   "id": "bd34055b",
   "metadata": {},
   "outputs": [],
   "source": [
    "def predict_farm_price(productname, year, month, model=pipeline):\n",
    "    input_df = pd.DataFrame([[productname, year, month]], columns=['productname', 'year', 'month'])\n",
    "    predicted_price = model.predict(input_df)[0]\n",
    "    return predicted_price\n"
   ]
  },
  {
   "cell_type": "markdown",
   "id": "b4d737ab",
   "metadata": {},
   "source": [
    "# Interactive user input for prediction"
   ]
  },
  {
   "cell_type": "code",
   "execution_count": null,
   "id": "b1d1d505",
   "metadata": {},
   "outputs": [],
   "source": [
    "product_name = input(\"Enter product name: \")\n",
    "year = int(input(\"Enter year (e.g., 2021): \"))\n",
    "month = int(input(\"Enter month (1-12): \"))\n",
    "\n",
    "predicted_price = predict_farm_price(product_name, year, month)\n",
    "print(f\"Predicted farm price for {product_name} in {month}/{year}: ${predicted_price:.2f}\")"
   ]
  }
 ],
 "metadata": {
  "jupytext": {
   "cell_metadata_filter": "-all",
   "encoding": "# coding: utf-8",
   "executable": "/usr/bin/env python",
   "main_language": "python",
   "notebook_metadata_filter": "-all"
  },
  "kernelspec": {
   "display_name": "Python 3",
   "language": "python",
   "name": "python3"
  },
  "language_info": {
   "codemirror_mode": {
    "name": "ipython",
    "version": 3
   },
   "file_extension": ".py",
   "mimetype": "text/x-python",
   "name": "python",
   "nbconvert_exporter": "python",
   "pygments_lexer": "ipython3",
   "version": "3.12.1"
  }
 },
 "nbformat": 4,
 "nbformat_minor": 5
}
